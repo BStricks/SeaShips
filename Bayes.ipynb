{
  "nbformat": 4,
  "nbformat_minor": 0,
  "metadata": {
    "colab": {
      "name": "Bayes.ipynb",
      "provenance": [],
      "collapsed_sections": [],
      "authorship_tag": "ABX9TyMPmnciipwwHO7G/M8N7HiB"
    },
    "kernelspec": {
      "name": "python3",
      "display_name": "Python 3"
    }
  },
  "cells": [
    {
      "cell_type": "code",
      "metadata": {
        "id": "gRyLmlZy8cmV",
        "colab_type": "code",
        "outputId": "f61fdafe-196d-4103-8d3f-0c8c011ce5b0",
        "colab": {
          "base_uri": "https://localhost:8080/",
          "height": 125
        }
      },
      "source": [
        "#code to set working directory in google colabs\n",
        "from google.colab import drive\n",
        "import os\n",
        "drive.mount('/content/drive')\n",
        "os.chdir(\"drive/My Drive\")"
      ],
      "execution_count": 23,
      "outputs": [
        {
          "output_type": "stream",
          "text": [
            "Go to this URL in a browser: https://accounts.google.com/o/oauth2/auth?client_id=947318989803-6bn6qk8qdgf4n4g3pfee6491hc0brc4i.apps.googleusercontent.com&redirect_uri=urn%3aietf%3awg%3aoauth%3a2.0%3aoob&response_type=code&scope=email%20https%3a%2f%2fwww.googleapis.com%2fauth%2fdocs.test%20https%3a%2f%2fwww.googleapis.com%2fauth%2fdrive%20https%3a%2f%2fwww.googleapis.com%2fauth%2fdrive.photos.readonly%20https%3a%2f%2fwww.googleapis.com%2fauth%2fpeopleapi.readonly\n",
            "\n",
            "Enter your authorization code:\n",
            "··········\n",
            "Mounted at /content/drive\n"
          ],
          "name": "stdout"
        }
      ]
    },
    {
      "cell_type": "code",
      "metadata": {
        "id": "kIWA0M9uOVaH",
        "colab_type": "code",
        "outputId": "af37ba9b-8e26-49bc-dec5-8fbb0bd0d0c0",
        "colab": {
          "base_uri": "https://localhost:8080/",
          "height": 141
        }
      },
      "source": [
        "!pip install pomegranate\n",
        "from pomegranate import *"
      ],
      "execution_count": 24,
      "outputs": [
        {
          "output_type": "stream",
          "text": [
            "Requirement already satisfied: pomegranate in /usr/local/lib/python3.6/dist-packages (0.12.2)\n",
            "Requirement already satisfied: pyyaml in /usr/local/lib/python3.6/dist-packages (from pomegranate) (3.13)\n",
            "Requirement already satisfied: joblib>=0.9.0b4 in /usr/local/lib/python3.6/dist-packages (from pomegranate) (0.14.1)\n",
            "Requirement already satisfied: numpy>=1.8.0 in /usr/local/lib/python3.6/dist-packages (from pomegranate) (1.18.4)\n",
            "Requirement already satisfied: networkx>=2.0 in /usr/local/lib/python3.6/dist-packages (from pomegranate) (2.4)\n",
            "Requirement already satisfied: scipy>=0.17.0 in /usr/local/lib/python3.6/dist-packages (from pomegranate) (1.4.1)\n",
            "Requirement already satisfied: decorator>=4.3.0 in /usr/local/lib/python3.6/dist-packages (from networkx>=2.0->pomegranate) (4.4.2)\n"
          ],
          "name": "stdout"
        }
      ]
    },
    {
      "cell_type": "code",
      "metadata": {
        "id": "uE_TzbEO9U7w",
        "colab_type": "code",
        "colab": {}
      },
      "source": [
        "import json\n",
        "json_files = ['nf_10']\n",
        "json_list = []\n",
        "\n",
        "for i in json_files:\n",
        "  filepath = \"./Colab Notebooks/evello/data/SeaShips/AIS/\"+i\n",
        "  with open(filepath, 'r') as json_file:\n",
        "    data = json.load(json_file)\n",
        "    json_list.append(data)"
      ],
      "execution_count": 0,
      "outputs": []
    },
    {
      "cell_type": "code",
      "metadata": {
        "id": "FBBlWgup-q-7",
        "colab_type": "code",
        "outputId": "d2ca54a7-bdc8-4155-a4f7-f9998e330e9a",
        "colab": {
          "base_uri": "https://localhost:8080/",
          "height": 54
        }
      },
      "source": [
        "print(json_list[0])"
      ],
      "execution_count": 26,
      "outputs": [
        {
          "output_type": "stream",
          "text": [
            "{'HEADING': 21.0, 'LAT': -75.0971, 'LON': 35.9868, 'MMSI': '366983550', 'MOVE_TYPE': '0', 'PORT_ID': '136', 'PORT_NAME': 'NORFOLK', 'SHIPNAME': 'OCEAN LADY', 'SHIP_ID': '3961225', 'SPEED': 12.32, 'TIMESTAMP_LT': '2020-04-13T05:45:00', 'TIMESTAMP_UTC': '2020-04-13T09:45:00', 'TYPE_NAME': 'FISHING_BOAT', 'UNLOCODE': 'USORF'}\n"
          ],
          "name": "stdout"
        }
      ]
    },
    {
      "cell_type": "code",
      "metadata": {
        "id": "xdprTrrtIQOA",
        "colab_type": "code",
        "colab": {}
      },
      "source": [
        "def generateEvent(ais, image=None, text=None):\n",
        "  #read in jsons and get characteristics\n",
        "  if ais['PORT_NAME'] == 'SAN DIEGO':\n",
        "\n",
        "    if -120.3442 <= ais['LAT'] <= -117.6526 and 32.3707 <= ais['LON'] <= 33.2933 :\n",
        "      position = 'A'\n",
        "    else:\n",
        "      position = 'N'\n",
        "    \n",
        "    if 0 <= ais['SPEED'] <= 0.8 :\n",
        "      speed = 'A'\n",
        "    else:\n",
        "      speed = 'N'\n",
        "\n",
        "    if 290 <= ais['HEADING'] <= 350 :\n",
        "      heading = 'A'\n",
        "    else:\n",
        "      heading = 'N'\n",
        "\n",
        "  elif ais['PORT_NAME'] == 'NORFOLK':\n",
        "\n",
        "    if -75.7837 <= ais['LAT'] <= -75.0256 and 35.7457 <= ais['LON'] <= 36.7917 :\n",
        "      position = 'A'\n",
        "    else:\n",
        "      position = 'N'\n",
        "    \n",
        "    if 0 <= ais['SPEED'] <= 0.8 :\n",
        "      speed = 'A'\n",
        "    else:\n",
        "      speed = 'N'\n",
        "\n",
        "    if 300 <= ais['HEADING'] <= 340 :\n",
        "      heading = 'A'\n",
        "    else:\n",
        "      heading = 'N'\n",
        "  \n",
        "  if image:\n",
        "    test = 1\n",
        "    #if count of images in ship overlap significantly:\n",
        "      #boat_overlap = 'A'\n",
        "    #else:\n",
        "      #boat_overlap = 'N'\n",
        "  else:\n",
        "    boat_overlap = 'N'\n",
        "\n",
        "  return heading, speed, position, boat_overlap"
      ],
      "execution_count": 0,
      "outputs": []
    },
    {
      "cell_type": "code",
      "metadata": {
        "id": "FwrfaMKMOuiU",
        "colab_type": "code",
        "colab": {}
      },
      "source": [
        "def bayes_network(heading, speed, position, boat_overlap):\n",
        "  heading_dis = DiscreteDistribution({'A': 1./2, 'N': 1./2})\n",
        "  speed_dis = DiscreteDistribution({'A': 1./2, 'N': 1./2})\n",
        "  position_dis = DiscreteDistribution({'A': 1./2, 'N': 1./2})\n",
        "  boat_overlap_dis = DiscreteDistribution({'A': 1./2, 'N': 1./2})\n",
        "\n",
        "  event_dis = ConditionalProbabilityTable(\n",
        "          [['A', 'A', 'A', 'A', 'A', 0.5],\n",
        "          \n",
        "          ['A', 'A', 'A', 'A', 'N', 0.2],\n",
        "          ['A', 'A', 'A', 'N', 'A', 0.2],\n",
        "          ['A', 'A', 'N', 'A', 'A', 0.6],\n",
        "          ['A', 'N', 'A', 'A', 'A', 0.7],\n",
        "          ['N', 'A', 'A', 'A', 'A', 0.0],\n",
        "\n",
        "          ['N', 'N', 'A', 'A', 'A', 0.9],\n",
        "          ['N', 'A', 'N', 'A', 'A', 0.4],\n",
        "          ['N', 'A', 'A', 'N', 'A', 1.0],\n",
        "          ['N', 'A', 'A', 'A', 'N', 1.0],\n",
        "          ['A', 'N', 'N', 'A', 'A', 0.4],\n",
        "          ['A', 'N', 'A', 'N', 'A', 0.3],\n",
        "          ['A', 'N', 'A', 'A', 'N', 0.0],\n",
        "          ['A', 'A', 'N', 'N', 'A', 0.0],\n",
        "          ['A', 'A', 'N', 'A', 'N', 0.2],\n",
        "          ['A', 'A', 'A', 'N', 'N', 0.2],\n",
        "\n",
        "          ['A', 'A', 'N', 'N', 'N', 0.1],\n",
        "          ['A', 'N', 'A', 'N', 'N', 0.2],\n",
        "          ['A', 'N', 'N', 'A', 'N', 0.3],\n",
        "          ['A', 'N', 'N', 'N', 'A', 0.4],\n",
        "          ['N', 'A', 'A', 'N', 'N', 0.5],\n",
        "          ['N', 'A', 'N', 'A', 'N', 0.6],\n",
        "          ['N', 'A', 'N', 'N', 'A', 0.7],\n",
        "          ['N', 'N', 'A', 'A', 'N', 0.8],\n",
        "          ['N', 'N', 'A', 'N', 'A', 0.9],\n",
        "          ['N', 'N', 'N', 'A', 'A', 1.0],\n",
        "\n",
        "          ['A', 'N', 'N', 'N', 'N', 0.0],\n",
        "          ['N', 'A', 'N', 'N', 'N', 0.0],\n",
        "          ['N', 'N', 'A', 'N', 'N', 0.0],\n",
        "          ['N', 'N', 'N', 'A', 'N', 0.0],\n",
        "          ['N', 'N', 'N', 'N', 'A', 0.0],\n",
        "\n",
        "          ['N', 'N', 'N', 'N', 'N', 0.0]], [heading_dis, speed_dis, position_dis, boat_overlap_dis])\n",
        "\n",
        "  s1 = Node(heading_dis, name=\"heading\")\n",
        "  s2 = Node(speed_dis, name=\"speed\")\n",
        "  s3 = Node(position_dis, name=\"position\")\n",
        "  s4 = Node(boat_overlap_dis, name=\"boat_overlap\")\n",
        "  s5 = Node(event_dis, name=\"event\")\n",
        "\n",
        "  model = BayesianNetwork(\"ship_event_reasoning\")\n",
        "  model.add_states(s1, s2, s3, s4, s5)\n",
        "  model.add_edge(s1, s5)\n",
        "  model.add_edge(s2, s5)\n",
        "  model.add_edge(s3, s5)\n",
        "  model.add_edge(s4, s5)\n",
        "  model.bake()\n",
        "  pred = model.predict([[heading, speed, position, boat_overlap, None]])\n",
        "  prob = model.probability(pred)\n",
        "  return pred, prob\n"
      ],
      "execution_count": 0,
      "outputs": []
    },
    {
      "cell_type": "code",
      "metadata": {
        "id": "Tb0WC00yqMGr",
        "colab_type": "code",
        "colab": {
          "base_uri": "https://localhost:8080/",
          "height": 52
        },
        "outputId": "9f67dead-88c4-41dd-fc89-211856b3c803"
      },
      "source": [
        "heading, speed, position, boat_overlap = generateEvent(json_list[0])\n",
        "print(position, speed, heading, boat_overlap)\n",
        "pred, prob, prob2 = bayes_network(position, speed, heading, boat_overlap)\n",
        "print(pred,prob, prob2)\n"
      ],
      "execution_count": 69,
      "outputs": [
        {
          "output_type": "stream",
          "text": [
            "A N N N\n",
            "[array(['A', 'N', 'N', 'N', 'A'], dtype=object)] 0.025 0.0\n"
          ],
          "name": "stdout"
        }
      ]
    },
    {
      "cell_type": "code",
      "metadata": {
        "id": "Ux0Nk0o7IpLI",
        "colab_type": "code",
        "colab": {}
      },
      "source": [
        "def event_reasoning(ais, image=None, text=None):  \n",
        "  position, speed, heading, boat_overlap = generateEvent(ais)\n",
        "  pred, prob = bayes_network(position, speed, heading, boat_overlap)\n",
        "  return {'prediction':pred[0][4], 'probability':prob}"
      ],
      "execution_count": 0,
      "outputs": []
    },
    {
      "cell_type": "code",
      "metadata": {
        "id": "mYPTHzllJdlr",
        "colab_type": "code",
        "colab": {
          "base_uri": "https://localhost:8080/",
          "height": 34
        },
        "outputId": "4827e36e-e5d0-4d7e-d913-4d5d9b84e58b"
      },
      "source": [
        "dict1 = event_reasoning(json_list[0])\n",
        "print(dict1)"
      ],
      "execution_count": 80,
      "outputs": [
        {
          "output_type": "stream",
          "text": [
            "{'prediction': 'A', 'probability': 0.05625}\n"
          ],
          "name": "stdout"
        }
      ]
    }
  ]
}